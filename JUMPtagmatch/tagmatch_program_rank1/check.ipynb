{
 "cells": [
  {
   "cell_type": "code",
   "execution_count": 61,
   "metadata": {},
   "outputs": [],
   "source": [
    "import pyteomics\n",
    "from pyteomics import pepxml\n",
    "import pandas as pd\n",
    "import numpy as np\n",
    "import os,sys\n",
    "\n",
    "from fragmenter import *\n",
    "from pepxml_generation_reorder import *\n",
    "from tagExtraction import *\n",
    "from target_decoy_qc_plots import *\n",
    "from assign_tag_combine_score import *\n",
    "import configparser\n",
    "config = configparser.ConfigParser()\n",
    "\n",
    "import time\n",
    "import pickle\n",
    "\n",
    "import os.path\n",
    "from os.path import dirname\n",
    "\n",
    "\n"
   ]
  },
  {
   "cell_type": "code",
   "execution_count": 62,
   "metadata": {},
   "outputs": [],
   "source": [
    "pep_xml = \"/home/spoudel1/PanPTM_Paper_2021/Figure1/Test_Pipeline_Precursor_MassFixed/Pipeline_Results_withoutQC/Stage_1/w010/w010.1.pep.xml\"\n",
    "tag_file = \"/home/spoudel1/PanPTM_Paper_2021/w010/w010.1.tags\""
   ]
  },
  {
   "cell_type": "code",
   "execution_count": 79,
   "metadata": {},
   "outputs": [],
   "source": [
    "x1 = pyteomics.pepxml.read(pep_xml)  #reading pepxml file using pyteomics\n",
    "dfMz = pd.DataFrame([x for x in x1])  #dataframe of the pepxml file"
   ]
  },
  {
   "cell_type": "code",
   "execution_count": 68,
   "metadata": {},
   "outputs": [],
   "source": [
    "dfMz_valid,spectrum_list = keep_dynamic_mods(dfMz, [79.966331])"
   ]
  },
  {
   "cell_type": "code",
   "execution_count": 72,
   "metadata": {},
   "outputs": [
    {
     "data": {
      "text/html": [
       "<div>\n",
       "<style scoped>\n",
       "    .dataframe tbody tr th:only-of-type {\n",
       "        vertical-align: middle;\n",
       "    }\n",
       "\n",
       "    .dataframe tbody tr th {\n",
       "        vertical-align: top;\n",
       "    }\n",
       "\n",
       "    .dataframe thead th {\n",
       "        text-align: right;\n",
       "    }\n",
       "</style>\n",
       "<table border=\"1\" class=\"dataframe\">\n",
       "  <thead>\n",
       "    <tr style=\"text-align: right;\">\n",
       "      <th></th>\n",
       "      <th>spectrum</th>\n",
       "      <th>precursor_neutral_mass</th>\n",
       "      <th>assumed_charge</th>\n",
       "      <th>start_scan</th>\n",
       "      <th>end_scan</th>\n",
       "      <th>index</th>\n",
       "      <th>search_hit</th>\n",
       "    </tr>\n",
       "  </thead>\n",
       "  <tbody>\n",
       "    <tr>\n",
       "      <th>0</th>\n",
       "      <td>w010.00004.00004.2</td>\n",
       "      <td>1013.275405</td>\n",
       "      <td>2</td>\n",
       "      <td>4</td>\n",
       "      <td>4</td>\n",
       "      <td>2</td>\n",
       "      <td>NaN</td>\n",
       "    </tr>\n",
       "    <tr>\n",
       "      <th>1</th>\n",
       "      <td>w010.00004.00004.3</td>\n",
       "      <td>1521.462115</td>\n",
       "      <td>3</td>\n",
       "      <td>4</td>\n",
       "      <td>4</td>\n",
       "      <td>4</td>\n",
       "      <td>[{'hit_rank': 1, 'peptide': 'TQSDTDDAGGS', 'nu...</td>\n",
       "    </tr>\n",
       "    <tr>\n",
       "      <th>2</th>\n",
       "      <td>w010.00005.00005.2</td>\n",
       "      <td>1014.307895</td>\n",
       "      <td>2</td>\n",
       "      <td>5</td>\n",
       "      <td>5</td>\n",
       "      <td>6</td>\n",
       "      <td>NaN</td>\n",
       "    </tr>\n",
       "    <tr>\n",
       "      <th>3</th>\n",
       "      <td>w010.00005.00005.3</td>\n",
       "      <td>1521.462115</td>\n",
       "      <td>3</td>\n",
       "      <td>5</td>\n",
       "      <td>5</td>\n",
       "      <td>8</td>\n",
       "      <td>[{'hit_rank': 1, 'peptide': 'TQSDTDDAGGS', 'nu...</td>\n",
       "    </tr>\n",
       "    <tr>\n",
       "      <th>4</th>\n",
       "      <td>w010.00007.00007.2</td>\n",
       "      <td>1076.285005</td>\n",
       "      <td>2</td>\n",
       "      <td>7</td>\n",
       "      <td>7</td>\n",
       "      <td>9</td>\n",
       "      <td>NaN</td>\n",
       "    </tr>\n",
       "    <tr>\n",
       "      <th>...</th>\n",
       "      <td>...</td>\n",
       "      <td>...</td>\n",
       "      <td>...</td>\n",
       "      <td>...</td>\n",
       "      <td>...</td>\n",
       "      <td>...</td>\n",
       "      <td>...</td>\n",
       "    </tr>\n",
       "    <tr>\n",
       "      <th>47892</th>\n",
       "      <td>w010.46239.46239.2</td>\n",
       "      <td>988.504955</td>\n",
       "      <td>2</td>\n",
       "      <td>46239</td>\n",
       "      <td>46239</td>\n",
       "      <td>59735</td>\n",
       "      <td>[{'hit_rank': 1, 'peptide': 'GMAYYR', 'num_tot...</td>\n",
       "    </tr>\n",
       "    <tr>\n",
       "      <th>47893</th>\n",
       "      <td>w010.46239.46239.3</td>\n",
       "      <td>1482.757715</td>\n",
       "      <td>3</td>\n",
       "      <td>46239</td>\n",
       "      <td>46239</td>\n",
       "      <td>59736</td>\n",
       "      <td>[{'hit_rank': 1, 'peptide': 'DEQKPATR', 'num_t...</td>\n",
       "    </tr>\n",
       "    <tr>\n",
       "      <th>47894</th>\n",
       "      <td>w010.46246.46246.2</td>\n",
       "      <td>876.353855</td>\n",
       "      <td>2</td>\n",
       "      <td>46246</td>\n",
       "      <td>46246</td>\n",
       "      <td>59737</td>\n",
       "      <td>NaN</td>\n",
       "    </tr>\n",
       "    <tr>\n",
       "      <th>47895</th>\n",
       "      <td>w010.46248.46248.2</td>\n",
       "      <td>1310.067625</td>\n",
       "      <td>2</td>\n",
       "      <td>46248</td>\n",
       "      <td>46248</td>\n",
       "      <td>59738</td>\n",
       "      <td>NaN</td>\n",
       "    </tr>\n",
       "    <tr>\n",
       "      <th>47896</th>\n",
       "      <td>w010.46248.46248.3</td>\n",
       "      <td>1965.971285</td>\n",
       "      <td>3</td>\n",
       "      <td>46248</td>\n",
       "      <td>46248</td>\n",
       "      <td>59740</td>\n",
       "      <td>[{'hit_rank': 1, 'peptide': 'EQVESSSLYVCK', 'n...</td>\n",
       "    </tr>\n",
       "  </tbody>\n",
       "</table>\n",
       "<p>47897 rows × 7 columns</p>\n",
       "</div>"
      ],
      "text/plain": [
       "                 spectrum  precursor_neutral_mass  assumed_charge  start_scan  \\\n",
       "0      w010.00004.00004.2             1013.275405               2           4   \n",
       "1      w010.00004.00004.3             1521.462115               3           4   \n",
       "2      w010.00005.00005.2             1014.307895               2           5   \n",
       "3      w010.00005.00005.3             1521.462115               3           5   \n",
       "4      w010.00007.00007.2             1076.285005               2           7   \n",
       "...                   ...                     ...             ...         ...   \n",
       "47892  w010.46239.46239.2              988.504955               2       46239   \n",
       "47893  w010.46239.46239.3             1482.757715               3       46239   \n",
       "47894  w010.46246.46246.2              876.353855               2       46246   \n",
       "47895  w010.46248.46248.2             1310.067625               2       46248   \n",
       "47896  w010.46248.46248.3             1965.971285               3       46248   \n",
       "\n",
       "       end_scan  index                                         search_hit  \n",
       "0             4      2                                                NaN  \n",
       "1             4      4  [{'hit_rank': 1, 'peptide': 'TQSDTDDAGGS', 'nu...  \n",
       "2             5      6                                                NaN  \n",
       "3             5      8  [{'hit_rank': 1, 'peptide': 'TQSDTDDAGGS', 'nu...  \n",
       "4             7      9                                                NaN  \n",
       "...         ...    ...                                                ...  \n",
       "47892     46239  59735  [{'hit_rank': 1, 'peptide': 'GMAYYR', 'num_tot...  \n",
       "47893     46239  59736  [{'hit_rank': 1, 'peptide': 'DEQKPATR', 'num_t...  \n",
       "47894     46246  59737                                                NaN  \n",
       "47895     46248  59738                                                NaN  \n",
       "47896     46248  59740  [{'hit_rank': 1, 'peptide': 'EQVESSSLYVCK', 'n...  \n",
       "\n",
       "[47897 rows x 7 columns]"
      ]
     },
     "execution_count": 72,
     "metadata": {},
     "output_type": "execute_result"
    }
   ],
   "source": [
    "dfMz"
   ]
  },
  {
   "cell_type": "code",
   "execution_count": null,
   "metadata": {},
   "outputs": [],
   "source": []
  },
  {
   "cell_type": "code",
   "execution_count": 80,
   "metadata": {},
   "outputs": [],
   "source": [
    "test = dfMz.loc[dfMz.spectrum==\"w010.00482.00482.2\"]"
   ]
  },
  {
   "cell_type": "code",
   "execution_count": 81,
   "metadata": {},
   "outputs": [],
   "source": [
    "test2 = dfMz.loc[dfMz.spectrum == \"w010.00507.00507.2\"]"
   ]
  },
  {
   "cell_type": "code",
   "execution_count": 84,
   "metadata": {},
   "outputs": [
    {
     "data": {
      "text/plain": [
       "[[{'hit_rank': 1,\n",
       "   'peptide': 'DALRR',\n",
       "   'num_tot_proteins': 6,\n",
       "   'num_matched_ions': 3,\n",
       "   'tot_num_ions': 8,\n",
       "   'num_missed_cleavages': 1,\n",
       "   'search_score': {'xcorr': 0.488,\n",
       "    'deltacn': 0.0,\n",
       "    'spscore': 66.0,\n",
       "    'sprank': 1.0,\n",
       "    'expect': 25.4},\n",
       "   'modified_peptide': 'DALRR',\n",
       "   'calc_neutral_pep_mass': 858.523839,\n",
       "   'massdiff': 2.002896,\n",
       "   'num_matched_peptides': 629,\n",
       "   'proteins': [{'protein': 'sp|O15061|SYNEM_HUMAN',\n",
       "     'protein_descr': None,\n",
       "     'peptide_next_aa': 'E',\n",
       "     'peptide_prev_aa': 'R',\n",
       "     'num_tol_term': 2},\n",
       "    {'protein': 'sp|P52790|HXK3_HUMAN'},\n",
       "    {'protein': 'sp|Q96F44|TRI11_HUMAN'},\n",
       "    {'protein': 'sp|Q9H0B6|KLC2_HUMAN'},\n",
       "    {'protein': '##Decoy__sp|Q6ZMQ8|LMTK1_HUMAN'},\n",
       "    {'protein': '##Decoy__sp|Q9H3T3|SEM6B_HUMAN'}],\n",
       "   'modifications': [{'position': 0, 'mass': 230.170756}]},\n",
       "  {'hit_rank': 1,\n",
       "   'peptide': 'DARIR',\n",
       "   'num_tot_proteins': 1,\n",
       "   'num_matched_ions': 3,\n",
       "   'tot_num_ions': 8,\n",
       "   'num_missed_cleavages': 1,\n",
       "   'search_score': {'xcorr': 0.488,\n",
       "    'deltacn': 0.0,\n",
       "    'spscore': 66.0,\n",
       "    'sprank': 1.0,\n",
       "    'expect': 25.4},\n",
       "   'modified_peptide': 'DARIR',\n",
       "   'calc_neutral_pep_mass': 858.523839,\n",
       "   'massdiff': 2.002896,\n",
       "   'num_matched_peptides': 629,\n",
       "   'proteins': [{'protein': 'sp|Q9Y5P6|GMPPB_HUMAN',\n",
       "     'protein_descr': None,\n",
       "     'peptide_next_aa': 'S',\n",
       "     'peptide_prev_aa': 'R',\n",
       "     'num_tol_term': 2}],\n",
       "   'modifications': [{'position': 0, 'mass': 230.170756}]},\n",
       "  {'hit_rank': 1,\n",
       "   'peptide': 'DIARR',\n",
       "   'num_tot_proteins': 2,\n",
       "   'num_matched_ions': 3,\n",
       "   'tot_num_ions': 8,\n",
       "   'num_missed_cleavages': 1,\n",
       "   'search_score': {'xcorr': 0.488,\n",
       "    'deltacn': 0.0,\n",
       "    'spscore': 66.0,\n",
       "    'sprank': 1.0,\n",
       "    'expect': 25.4},\n",
       "   'modified_peptide': 'DIARR',\n",
       "   'calc_neutral_pep_mass': 858.523839,\n",
       "   'massdiff': 2.002896,\n",
       "   'num_matched_peptides': 629,\n",
       "   'proteins': [{'protein': 'sp|P09661|RU2A_HUMAN',\n",
       "     'protein_descr': None,\n",
       "     'peptide_next_aa': 'S',\n",
       "     'peptide_prev_aa': 'K',\n",
       "     'num_tol_term': 2},\n",
       "    {'protein': 'sp|Q04637|IF4G1_HUMAN'}],\n",
       "   'modifications': [{'position': 0, 'mass': 230.170756}]},\n",
       "  {'hit_rank': 1,\n",
       "   'peptide': 'DRAIR',\n",
       "   'num_tot_proteins': 2,\n",
       "   'num_matched_ions': 3,\n",
       "   'tot_num_ions': 8,\n",
       "   'num_missed_cleavages': 1,\n",
       "   'search_score': {'xcorr': 0.488,\n",
       "    'deltacn': 0.006,\n",
       "    'spscore': 66.0,\n",
       "    'sprank': 1.0,\n",
       "    'expect': 25.4},\n",
       "   'modified_peptide': 'DRAIR',\n",
       "   'calc_neutral_pep_mass': 858.523839,\n",
       "   'massdiff': 2.002896,\n",
       "   'num_matched_peptides': 629,\n",
       "   'proteins': [{'protein': '##Decoy__sp|O95831|AIFM1_HUMAN',\n",
       "     'protein_descr': None,\n",
       "     'peptide_next_aa': 'S',\n",
       "     'peptide_prev_aa': 'R',\n",
       "     'num_tol_term': 2},\n",
       "    {'protein': '##Decoy__sp|Q92503|S14L1_HUMAN'}],\n",
       "   'modifications': [{'position': 0, 'mass': 230.170756}]},\n",
       "  {'hit_rank': 2,\n",
       "   'peptide': 'DIRAR',\n",
       "   'num_tot_proteins': 3,\n",
       "   'num_matched_ions': 3,\n",
       "   'tot_num_ions': 8,\n",
       "   'num_missed_cleavages': 1,\n",
       "   'search_score': {'xcorr': 0.486,\n",
       "    'deltacn': 1.0,\n",
       "    'spscore': 66.0,\n",
       "    'sprank': 1.0,\n",
       "    'expect': 26.4},\n",
       "   'modified_peptide': 'DIRAR',\n",
       "   'calc_neutral_pep_mass': 858.523839,\n",
       "   'massdiff': 2.002896,\n",
       "   'num_matched_peptides': 629,\n",
       "   'proteins': [{'protein': 'sp|P02549|SPTA1_HUMAN',\n",
       "     'protein_descr': None,\n",
       "     'peptide_next_aa': 'Q',\n",
       "     'peptide_prev_aa': 'K',\n",
       "     'num_tol_term': 2},\n",
       "    {'protein': 'sp|Q92542|NICA_HUMAN'},\n",
       "    {'protein': '##Decoy__sp|Q5VT06|CE350_HUMAN'}],\n",
       "   'modifications': [{'position': 0, 'mass': 230.170756}]}]]"
      ]
     },
     "execution_count": 84,
     "metadata": {},
     "output_type": "execute_result"
    }
   ],
   "source": [
    "test2.search_hit.to_list()"
   ]
  },
  {
   "cell_type": "code",
   "execution_count": null,
   "metadata": {},
   "outputs": [],
   "source": []
  },
  {
   "cell_type": "code",
   "execution_count": null,
   "metadata": {},
   "outputs": [],
   "source": [
    "'''\n",
    "w010.1000.1.2.tag\n",
    "1279.68799\tENGDAST\t904.419366424669\t14.9982705110372\t17.0367857963583\t17.3990014850577\t230.169781649025;331.217028255444;418.248893460253;489.286229662994;604.313182232411;661.334435121576;775.377368150669;904.419366424669\n",
    "1279.68799\tTNGDAST\t876.424614757088\t14.9782480891887\t16.8894530248236\t16.7705171312113\t230.169781649025;331.217028255444;418.248893460253;489.286229662994;604.313182232411;661.334435121576;775.377368150669;876.424614757088\n",
    "'''"
   ]
  },
  {
   "cell_type": "code",
   "execution_count": null,
   "metadata": {
    "jupyter": {
     "source_hidden": true
    }
   },
   "outputs": [],
   "source": [
    "'''\n",
    "Executing Tag Match Program\n",
    "    w010.00004.00004.3_1522.46994003207 does not exist in tag file. So, arbitrary jump like outfile created\n",
    "    w010.00005.00005.3_1522.46994003207 does not exist in tag file. So, arbitrary jump like outfile created\n",
    "    w010.00008.00008.3_2256.1601400320696 does not exist in tag file. So, arbitrary jump like outfile created\n",
    "    w010.00020.00020.2_997.4451600320699 does not exist in tag file. So, arbitrary jump like outfile created\n",
    "    w010.00020.00020.3_1495.66410003207 does not exist in tag file. So, arbitrary jump like outfile created\n",
    "    w010.00044.00044.3_3122.0874500320697 does not exist in tag file. So, arbitrary jump like outfile created\n",
    "    w010.00060.00060.3_1477.47485003207 does not exist in tag file. So, arbitrary jump like outfile created\n",
    "    w010.00070.00070.3_1522.4693000320701 does not exist in tag file. So, arbitrary jump like outfile created\n",
    "    w010.00107.00107.3_1333.66178003207 does not exist in tag file. So, arbitrary jump like outfile created\n",
    "    w010.00118.00118.1_1017.42591003207 does not exist in tag file. So, arbitrary jump like outfile created\n",
    "    w010.00119.00119.4_1937.91613003207 does not exist in tag file. So, arbitrary jump like outfile created\n",
    "    w010.00127.00127.3_1273.6654300320702 does not exist in tag file. So, arbitrary jump like outfile created\n",
    "    w010.00132.00132.2_997.4480300320699 does not exist in tag file. So, arbitrary jump like outfile created\n",
    "    w010.00132.00132.3_1495.6684000320702 does not exist in tag file. So, arbitrary jump like outfile created\n",
    "    w010.00138.00138.3_2391.0219100320696 does not exist in tag file. So, arbitrary jump like outfile created\n",
    "    w010.00140.00140.3_1519.87503003207 does not exist in tag file. So, arbitrary jump like outfile created\n",
    "    w010.00141.00141.2_1472.63492003207 does not exist in tag file. So, arbitrary jump like outfile created\n",
    "    w010.00143.00143.3_1519.87503003207 does not exist in tag file. So, arbitrary jump like outfile created\n",
    "    w010.00161.00161.3_1495.66447003207 does not exist in tag file. So, arbitrary jump like outfile created\n",
    "    w010.00169.00169.2_831.33562003207 does not exist in tag file. So, arbitrary jump like outfile created\n",
    "    w010.00169.00169.3_1246.43891003207 does not exist in tag file. So, arbitrary jump like outfile created\n",
    "    w010.00177.00177.3_2309.06831003207 does not exist in tag file. So, arbitrary jump like outfile created\n",
    "    w010.00183.00183.4_1976.9710000320702 does not exist in tag file. So, arbitrary jump like outfile created\n",
    "    w010.00189.00189.3_1663.7783700320701 does not exist in tag file. So, arbitrary jump like outfile created\n",
    "    w010.00227.00227.3_2437.08076003207 does not exist in tag file. So, arbitrary jump like outfile created\n",
    "    w010.00229.00229.3_1555.57796003207 does not exist in tag file. So, arbitrary jump like outfile created\n",
    "    w010.00237.00237.2_1269.51869003207 does not exist in tag file. So, arbitrary jump like outfile created\n",
    "    w010.00250.00250.3_1792.75304003207 does not exist in tag file. So, arbitrary jump like outfile created\n",
    "    w010.00288.00288.2_1113.44277003207 does not exist in tag file. So, arbitrary jump like outfile created\n",
    "    w010.00288.00288.3_1669.66051003207 does not exist in tag file. So, arbitrary jump like outfile created\n",
    "    w010.00293.00293.2_1095.43158003207 does not exist in tag file. So, arbitrary jump like outfile created\n",
    "    w010.00302.00302.3_1472.7752100320702 does not exist in tag file. So, arbitrary jump like outfile created\n",
    "    w010.00310.00310.3_2002.90988003207 does not exist in tag file. So, arbitrary jump like outfile created\n",
    "    w010.00314.00314.2_1249.46098003207 does not exist in tag file. So, arbitrary jump like outfile created\n",
    "    w010.00324.00324.3_2350.20799003207 does not exist in tag file. So, arbitrary jump like outfile created\n",
    "    w010.00332.00332.2_1233.66808003207 does not exist in tag file. So, arbitrary jump like outfile created\n",
    "    w010.00340.00340.3_1755.91603003207 does not exist in tag file. So, arbitrary jump like outfile created\n",
    "    w010.00347.00347.4_2218.0061000320698 does not exist in tag file. So, arbitrary jump like outfile created\n",
    "    w010.00353.00353.1_1099.39885003207 does not exist in tag file. So, arbitrary jump like outfile created\n",
    "    w010.00353.00353.2_2197.7904300320697 does not exist in tag file. So, arbitrary jump like outfile created\n",
    "    w010.00363.00363.2_1719.7327200320701 does not exist in tag file. So, arbitrary jump like outfile created\n",
    "    w010.00363.00363.4_3438.45816003207 does not exist in tag file. So, arbitrary jump like outfile created\n",
    "    w010.00367.00367.1_982.42956003207 does not exist in tag file. So, arbitrary jump like outfile created\n",
    "    w010.00367.00367.3_2943.26671003207 does not exist in tag file. So, arbitrary jump like outfile created\n",
    "    w010.00369.00369.2_1748.74719003207 does not exist in tag file. So, arbitrary jump like outfile created\n",
    "    w010.00383.00383.2_1575.72492003207 does not exist in tag file. So, arbitrary jump like outfile created\n",
    "    w010.00383.00383.3_2363.0837400320697 does not exist in tag file. So, arbitrary jump like outfile created\n",
    "    w010.00390.00390.2_1194.57109003207 does not exist in tag file. So, arbitrary jump like outfile created\n",
    "    w010.00391.00391.2_1486.63801003207 does not exist in tag file. So, arbitrary jump like outfile created\n",
    "    w010.00391.00391.4_2972.26873003207 does not exist in tag file. So, arbitrary jump like outfile created\n",
    "    w010.00395.00395.2_1301.6895700320702 does not exist in tag file. So, arbitrary jump like outfile created\n",
    "    w010.00396.00396.2_1740.6431000320702 does not exist in tag file. So, arbitrary jump like outfile created\n",
    "    w010.00416.00416.3_1492.7649600320701 does not exist in tag file. So, arbitrary jump like outfile created\n",
    "    w010.00431.00431.2_1445.66820003207 does not exist in tag file. So, arbitrary jump like outfile created\n",
    "    w010.00431.00431.3_2167.99866003207 does not exist in tag file. So, arbitrary jump like outfile created\n",
    "    w010.00446.00446.2_1892.91051003207 does not exist in tag file. So, arbitrary jump like outfile created\n",
    "    w010.00447.00447.3_3380.60627003207 does not exist in tag file. So, arbitrary jump like outfile created\n",
    "    w010.00448.00448.2_1613.7181300320701 does not exist in tag file. So, arbitrary jump like outfile created\n",
    "    w010.00448.00448.3_2420.07356003207 does not exist in tag file. So, arbitrary jump like outfile created\n",
    "    w010.00455.00455.3_1738.83668003207 does not exist in tag file. So, arbitrary jump like outfile created\n",
    "    w010.00472.00472.3_1740.8453700320702 does not exist in tag file. So, arbitrary jump like outfile created\n",
    "    w010.00472.00472.4_2319.19421003207 does not exist in tag file. So, arbitrary jump like outfile created\n",
    "    w010.00474.00474.2_1111.4522700320701 does not exist in tag file. So, arbitrary jump like outfile created\n",
    "    w010.00474.00474.3_1666.67476003207 does not exist in tag file. So, arbitrary jump like outfile created\n",
    "    w010.00494.00494.3_1877.94288003207 does not exist in tag file. So, arbitrary jump like outfile created\n",
    "    w010.00495.00495.4_3577.62398003207 does not exist in tag file. So, arbitrary jump like outfile created\n",
    "    w010.00496.00496.2_2581.11786003207 does not exist in tag file. So, arbitrary jump like outfile created\n",
    "    w010.00498.00498.3_2319.1326300320698 does not exist in tag file. So, arbitrary jump like outfile created\n",
    "    w010.00513.00513.4_3163.37629003207 does not exist in tag file. So, arbitrary jump like outfile created\n",
    "    w010.00516.00516.3_2312.01671003207 does not exist in tag file. So, arbitrary jump like outfile created\n",
    "    w010.00540.00540.3_3379.66400003207 does not exist in tag file. So, arbitrary jump like outfile created\n",
    "    w010.00547.00547.2_1254.66233003207 does not exist in tag file. So, arbitrary jump like outfile created\n",
    "    w010.00552.00552.3_2587.5462100320697 does not exist in tag file. So, arbitrary jump like outfile created\n",
    "    w010.00562.00562.3_3196.35584003207 does not exist in tag file. So, arbitrary jump like outfile created\n",
    "    w010.00567.00567.2_2620.10681003207 does not exist in tag file. So, arbitrary jump like outfile created\n",
    "    w010.00569.00569.3_2019.9756800320702 does not exist in tag file. So, arbitrary jump like outfile created\n",
    "    w010.00571.00571.2_1279.6195100320701 does not exist in tag file. So, arbitrary jump like outfile created\n",
    "    w010.00571.00571.3_1917.90187003207 does not exist in tag file. So, arbitrary jump like outfile created\n",
    "    w010.00582.00582.3_2406.2603000320696 does not exist in tag file. So, arbitrary jump like outfile created\n",
    "    w010.00597.00597.3_3781.58453003207 does not exist in tag file. So, arbitrary jump like outfile created\n",
    "    w010.00598.00598.3_3176.52311003207 does not exist in tag file. So, arbitrary jump like outfile created\n",
    "    w010.00620.00620.3_1937.10124003207 does not exist in tag file. So, arbitrary jump like outfile created\n",
    "    w010.00621.00621.3_2011.02083003207 does not exist in tag file. So, arbitrary jump like outfile created\n",
    "    w010.00623.00623.3_1907.90182003207 does not exist in tag file. So, arbitrary jump like outfile created\n",
    "    w010.00624.00624.3_1995.02930003207 does not exist in tag file. So, arbitrary jump like outfile created\n",
    "    w010.00637.00637.3_1939.91542003207 does not exist in tag file. So, arbitrary jump like outfile created\n",
    "    w010.00654.00654.3_2361.10856003207 does not exist in tag file. So, arbitrary jump like outfile created\n",
    "    w010.00656.00656.2_1621.6079900320701 does not exist in tag file. So, arbitrary jump like outfile created\n",
    "    w010.00670.00670.4_3694.77370003207 does not exist in tag file. So, arbitrary jump like outfile created\n",
    "    w010.00674.00674.3_1986.96836003207 does not exist in tag file. So, arbitrary jump like outfile created\n",
    "    w010.00696.00696.3_2778.1676800320697 does not exist in tag file. So, arbitrary jump like outfile created\n",
    "    w010.00709.00709.2_1334.49877003207 does not exist in tag file. So, arbitrary jump like outfile created\n",
    "    w010.00722.00722.3_2026.98210003207 does not exist in tag file. So, arbitrary jump like outfile created\n",
    "    w010.00736.00736.2_1821.7460400320701 does not exist in tag file. So, arbitrary jump like outfile created\n",
    "    w010.00736.00736.3_2732.11542003207 does not exist in tag file. So, arbitrary jump like outfile created\n",
    "    w010.00738.00738.2_1403.69655003207 does not exist in tag file. So, arbitrary jump like outfile created\n",
    "    w010.00739.00739.4_3272.65288003207 does not exist in tag file. So, arbitrary jump like outfile created\n",
    "    w010.00741.00741.3_2853.20915003207 does not exist in tag file. So, arbitrary jump like outfile created\n",
    "    w010.00742.00742.2_1409.6494900320702 does not exist in tag file. So, arbitrary jump like outfile created\n",
    "    w010.00743.00743.4_3197.52462003207 does not exist in tag file. So, arbitrary jump like outfile created\n",
    "    w010.00745.00745.3_1789.64919003207 does not exist in tag file. So, arbitrary jump like outfile created\n",
    "    w010.00762.00762.2_1985.93411003207 does not exist in tag file. So, arbitrary jump like outfile created\n",
    "    w010.00766.00766.3_3607.4987600320696 does not exist in tag file. So, arbitrary jump like outfile created\n",
    "    w010.00806.00806.3_1948.90728003207 does not exist in tag file. So, arbitrary jump like outfile created\n",
    "    w010.00808.00808.2_1982.84533003207 does not exist in tag file. So, arbitrary jump like outfile created\n",
    "    w010.00822.00822.3_3789.67275003207 does not exist in tag file. So, arbitrary jump like outfile created\n",
    "    w010.00834.00834.3_3053.44284003207 does not exist in tag file. So, arbitrary jump like outfile created\n",
    "    w010.00850.00850.2_1740.85990003207 does not exist in tag file. So, arbitrary jump like outfile created\n",
    "    w010.00852.00852.3_1881.92638003207 does not exist in tag file. So, arbitrary jump like outfile created\n",
    "    w010.00866.00866.2_1235.50330003207 does not exist in tag file. So, arbitrary jump like outfile created\n",
    "    w010.00866.00866.3_1849.80567003207 does not exist in tag file. So, arbitrary jump like outfile created\n",
    "    w010.00868.00868.2_1463.76483003207 does not exist in tag file. So, arbitrary jump like outfile created\n",
    "    w010.00870.00870.3_1828.89699003207 does not exist in tag file. So, arbitrary jump like outfile created\n",
    "    w010.00879.00879.2_1751.79264003207 does not exist in tag file. So, arbitrary jump like outfile created\n",
    "    w010.00899.00899.3_2000.92847003207 does not exist in tag file. So, arbitrary jump like outfile created\n",
    "    w010.00914.00914.2_1763.88249003207 does not exist in tag file. So, arbitrary jump like outfile created\n",
    "    w010.00916.00916.3_2304.04586003207 does not exist in tag file. So, arbitrary jump like outfile created\n",
    "    w010.00917.00917.3_3483.56870003207 does not exist in tag file. So, arbitrary jump like outfile created\n",
    "    w010.00921.00921.3_3788.66200003207 does not exist in tag file. So, arbitrary jump like outfile created\n",
    "    w010.00929.00929.3_2138.08476003207 does not exist in tag file. So, arbitrary jump like outfile created\n",
    "    w010.00930.00930.2_1735.74656003207 does not exist in tag file. So, arbitrary jump like outfile created\n",
    "    w010.00930.00930.4_3470.4858500320697 does not exist in tag file. So, arbitrary jump like outfile created\n",
    "    w010.00931.00931.2_2266.0167600320697 does not exist in tag file. So, arbitrary jump like outfile created\n",
    "    w010.00932.00932.2_1255.54966003207 does not exist in tag file. So, arbitrary jump like outfile created\n",
    "    w010.00932.00932.3_1882.82086003207 does not exist in tag file. So, arbitrary jump like outfile created\n",
    "    w010.00945.00945.4_3146.38001003207 does not exist in tag file. So, arbitrary jump like outfile created\n",
    "    w010.00949.00949.3_2922.42615003207 does not exist in tag file. So, arbitrary jump like outfile created\n",
    "    w010.00950.00950.2_2014.88218003207 does not exist in tag file. So, arbitrary jump like outfile created\n",
    "    w010.00971.00971.3_3480.56573003207 does not exist in tag file. So, arbitrary jump like outfile created\n",
    "    w010.00973.00973.2_1235.5638500320701 does not exist in tag file. So, arbitrary jump like outfile created\n",
    "    w010.00973.00973.3_1856.06904003207 does not exist in tag file. So, arbitrary jump like outfile created\n",
    "    w010.00990.00990.3_2330.12567003207 does not exist in tag file. So, arbitrary jump like outfile created\n",
    "    w010.00992.00992.1_928.44514003207 does not exist in tag file. So, arbitrary jump like outfile created\n",
    "    w010.00992.00992.2_1855.8830100320702 does not exist in tag file. So, arbitrary jump like outfile created\n",
    "    w010.00993.00993.2_1370.57814003207 does not exist in tag file. So, arbitrary jump like outfile created\n",
    "    w010.00993.00993.4_2745.28579003207 does not exist in tag file. So, arbitrary jump like outfile created\n",
    "    w010.00994.00994.2_1804.74670003207 does not exist in tag file. So, arbitrary jump like outfile created\n",
    "    w010.00995.00995.2_1479.7452300320701 does not exist in tag file. So, arbitrary jump like outfile created\n",
    "    w010.00995.00995.3_2219.11421003207 does not exist in tag file. So, arbitrary jump like outfile created\n",
    "    w010.01013.01013.3_3146.38142003207 does not exist in tag file. So, arbitrary jump like outfile created\n",
    "    w010.01015.01015.2_1557.69945003207 does not exist in tag file. So, arbitrary jump like outfile created\n",
    "    w010.01015.01015.3_2336.0455400320698 does not exist in tag file. So, arbitrary jump like outfile created\n",
    "    w010.01016.01016.2_1405.6472500320701 does not exist in tag file. So, arbitrary jump like outfile created\n",
    "    w010.01016.01016.3_2105.0435600320698 does not exist in tag file. So, arbitrary jump like outfile created\n",
    "    w010.01016.01016.4_2807.27914003207 does not exist in tag file. So, arbitrary jump like outfile created\n",
    "    w010.01019.01019.3_3789.67678003207 does not exist in tag file. So, arbitrary jump like outfile created\n",
    "    w010.01033.01033.2_1292.57009003207 does not exist in tag file. So, arbitrary jump like outfile created\n",
    "    w010.01033.01033.3_1936.8093600320701 does not exist in tag file. So, arbitrary jump like outfile created\n",
    "    w010.01035.01035.3_2202.02863003207 does not exist in tag file. So, arbitrary jump like outfile created\n",
    "    w010.01037.01037.4_3146.38196003207 does not exist in tag file. So, arbitrary jump like outfile created\n",
    "    w010.01054.01054.1_1397.58973003207 does not exist in tag file. So, arbitrary jump like outfile created\n",
    "    w010.01054.01054.3_4190.7546500320705 does not exist in tag file. So, arbitrary jump like outfile created\n",
    "    w010.01056.01056.4_4418.7872300320705 does not exist in tag file. So, arbitrary jump like outfile created\n",
    "    w010.01060.01060.3_3480.5646400320697 does not exist in tag file. So, arbitrary jump like outfile created\n",
    "    w010.01061.01061.3_2615.2591600320698 does not exist in tag file. So, arbitrary jump like outfile created\n",
    "    w010.01068.01068.3_2023.6905600320702 does not exist in tag file. So, arbitrary jump like outfile created\n",
    "    w010.01081.01081.2_1261.49663003207 does not exist in tag file. So, arbitrary jump like outfile created\n",
    "    w010.01081.01081.3_1894.01461003207 does not exist in tag file. So, arbitrary jump like outfile created\n",
    "    w010.01083.01083.4_2743.28259003207 does not exist in tag file. So, arbitrary jump like outfile created\n",
    "    w010.01084.01084.3_2632.1425900320696 does not exist in tag file. So, arbitrary jump like outfile created\n",
    "    w010.01085.01085.2_1830.73844003207 does not exist in tag file. So, arbitrary jump like outfile created\n",
    "    w010.01101.01101.2_1783.7462300320701 does not exist in tag file. So, arbitrary jump like outfile created\n",
    "    w010.01114.01114.2_1257.61475003207 does not exist in tag file. So, arbitrary jump like outfile created\n",
    "    w010.01114.01114.3_1885.9184900320702 does not exist in tag file. So, arbitrary jump like outfile created\n",
    "    w010.01119.01119.2_1645.71116003207 does not exist in tag file. So, arbitrary jump like outfile created\n",
    "    w010.01120.01120.2_1281.61111003207 does not exist in tag file. So, arbitrary jump like outfile created\n",
    "    w010.01120.01120.3_1924.7890900320701 does not exist in tag file. So, arbitrary jump like outfile created\n",
    "    w010.01121.01121.2_1627.78103003207 does not exist in tag file. So, arbitrary jump like outfile created\n",
    "    w010.01123.01123.3_1994.02807003207 does not exist in tag file. So, arbitrary jump like outfile created\n",
    "    w010.01127.01127.2_852.34391003207 does not exist in tag file. So, arbitrary jump like outfile created\n",
    "    w010.01134.01134.3_2314.13527003207 does not exist in tag file. So, arbitrary jump like outfile created\n",
    "    w010.01149.01149.3_3781.59478003207 does not exist in tag file. So, arbitrary jump like outfile created\n",
    "    w010.01151.01151.2_2322.0491100320696 does not exist in tag file. So, arbitrary jump like outfile created\n",
    "    w010.01151.01151.3_3482.57003003207 does not exist in tag file. So, arbitrary jump like outfile created\n",
    "    w010.01162.01162.4_2503.2570200320697 does not exist in tag file. So, arbitrary jump like outfile created\n",
    "    w010.01166.01166.3_3482.57552003207 does not exist in tag file. So, arbitrary jump like outfile created\n",
    "    w010.01168.01168.3_3679.5749900320698 does not exist in tag file. So, arbitrary jump like outfile created\n",
    "    w010.01170.01170.3_2250.03337003207 does not exist in tag file. So, arbitrary jump like outfile created\n",
    "    w010.01183.01183.2_1673.69925003207 does not exist in tag file. So, arbitrary jump like outfile created\n",
    "    w010.01183.01183.3_2510.0452400320696 does not exist in tag file. So, arbitrary jump like outfile created\n",
    "    w010.01197.01197.3_3556.5531400320697 does not exist in tag file. So, arbitrary jump like outfile created\n",
    "    w010.01200.01200.2_2379.0200700320697 does not exist in tag file. So, arbitrary jump like outfile created\n",
    "    w010.01203.01203.3_3482.5616000320697 does not exist in tag file. So, arbitrary jump like outfile created\n",
    "    w010.01204.01204.3_2356.13939003207 does not exist in tag file. So, arbitrary jump like outfile created\n",
    "    w010.01276.01276.3_1618.85478003207 does not exist in tag file. So, arbitrary jump like outfile created\n",
    "    w010.01318.01318.3_3474.48766003207 does not exist in tag file. So, arbitrary jump like outfile created\n",
    "    w010.01319.01319.2_1311.61315003207 does not exist in tag file. So, arbitrary jump like outfile created\n",
    "    w010.01344.01344.2_1636.78528003207 does not exist in tag file. So, arbitrary jump like outfile created\n",
    "    w010.01360.01360.2_1367.59911003207 does not exist in tag file. So, arbitrary jump like outfile created\n",
    "    w010.01360.01360.3_2050.84650003207 does not exist in tag file. So, arbitrary jump like outfile created\n",
    "    w010.01361.01361.3_3325.43269003207 does not exist in tag file. So, arbitrary jump like outfile created\n",
    "    w010.01362.01362.2_1659.76746003207 does not exist in tag file. So, arbitrary jump like outfile created\n",
    "    w010.01362.01362.3_2489.14755003207 does not exist in tag file. So, arbitrary jump like outfile created\n",
    "    w010.01374.01374.4_3139.39922003207 does not exist in tag file. So, arbitrary jump like outfile created\n",
    "    w010.01376.01376.2_1549.6438200320702 does not exist in tag file. So, arbitrary jump like outfile created\n",
    "    w010.01377.01377.3_3085.4278700320697 does not exist in tag file. So, arbitrary jump like outfile created\n",
    "    w010.01379.01379.2_1933.74103003207 does not exist in tag file. So, arbitrary jump like outfile created\n",
    "    w010.01380.01380.2_1549.6438200320702 does not exist in tag file. So, arbitrary jump like outfile created\n",
    "    w010.01436.01436.3_3474.4814400320697 does not exist in tag file. So, arbitrary jump like outfile created\n",
    "    w010.01486.01486.2_1494.70499003207 does not exist in tag file. So, arbitrary jump like outfile created\n",
    "    w010.01487.01487.2_1293.56119003207 does not exist in tag file. So, arbitrary jump like outfile created\n",
    "    w010.01487.01487.3_1940.97396003207 does not exist in tag file. So, arbitrary jump like outfile created\n",
    "    w010.01496.01496.3_1910.9496500320702 does not exist in tag file. So, arbitrary jump like outfile created\n",
    "    w010.01506.01506.3_3184.31762003207 does not exist in tag file. So, arbitrary jump like outfile created\n",
    "    w010.01511.01511.3_1576.82356003207 does not exist in tag file. So, arbitrary jump like outfile created\n",
    "    w010.01520.01520.3_3273.33532003207 does not exist in tag file. So, arbitrary jump like outfile created\n",
    "    w010.01534.01534.3_2325.11219003207 does not exist in tag file. So, arbitrary jump like outfile created\n",
    "    w010.01537.01537.4_2760.2073400320696 does not exist in tag file. So, arbitrary jump like outfile created\n",
    "    w010.01540.01540.2_1460.71328003207 does not exist in tag file. So, arbitrary jump like outfile created\n",
    "    w010.01541.01541.3_2737.21185003207 does not exist in tag file. So, arbitrary jump like outfile created\n",
    "    w010.01544.01544.3_1372.47269003207 does not exist in tag file. So, arbitrary jump like outfile created\n",
    "    w010.01571.01571.3_2990.2511700320697 does not exist in tag file. So, arbitrary jump like outfile created\n",
    "    w010.01573.01573.2_1287.61508003207 does not exist in tag file. So, arbitrary jump like outfile created\n",
    "    w010.01576.01576.3_2373.14256003207 does not exist in tag file. So, arbitrary jump like outfile created\n",
    "    w010.01579.01579.2_1818.7862900320702 does not exist in tag file. So, arbitrary jump like outfile created\n",
    "    w010.01580.01580.2_1721.90132003207 does not exist in tag file. So, arbitrary jump like outfile created\n",
    "    w010.01580.01580.3_2582.24360003207 does not exist in tag file. So, arbitrary jump like outfile created\n",
    "    w010.01581.01581.4_3654.63801003207 does not exist in tag file. So, arbitrary jump like outfile created\n",
    "    w010.01582.01582.2_2103.20859003207 does not exist in tag file. So, arbitrary jump like outfile created\n",
    "    w010.01582.01582.3_3152.30787003207 does not exist in tag file. So, arbitrary jump like outfile created\n",
    "    w010.01590.01590.4_2334.11479003207 does not exist in tag file. So, arbitrary jump like outfile created\n",
    "    w010.01600.01600.2_1738.87343003207 does not exist in tag file. So, arbitrary jump like outfile created\n",
    "    w010.01603.01603.2_1645.71457003207 does not exist in tag file. So, arbitrary jump like outfile created\n",
    "    w010.01603.01603.3_2468.06822003207 does not exist in tag file. So, arbitrary jump like outfile created\n",
    "    w010.01623.01623.2_1361.57219003207 does not exist in tag file. So, arbitrary jump like outfile created\n",
    "    w010.01686.01686.3_1825.91911003207 does not exist in tag file. So, arbitrary jump like outfile created\n",
    "    w010.01746.01746.2_1313.58314003207 does not exist in tag file. So, arbitrary jump like outfile created\n",
    "    w010.01746.01746.3_1969.87107003207 does not exist in tag file. So, arbitrary jump like outfile created\n",
    "    w010.01800.01800.2_1401.68151003207 does not exist in tag file. So, arbitrary jump like outfile created\n",
    "    w010.01800.01800.3_2104.8679600320697 does not exist in tag file. So, arbitrary jump like outfile created\n",
    "    w010.01800.01800.4_2802.35575003207 does not exist in tag file. So, arbitrary jump like outfile created\n",
    "    w010.01808.01808.2_1113.4752400320701 does not exist in tag file. So, arbitrary jump like outfile created\n",
    "    w010.01869.01869.3_3389.47416003207 does not exist in tag file. So, arbitrary jump like outfile created\n",
    "    w010.01870.01870.2_1624.72032003207 does not exist in tag file. So, arbitrary jump like outfile created\n",
    "    w010.02044.02044.2_1683.61892003207 does not exist in tag file. So, arbitrary jump like outfile created\n",
    "    w010.02044.02044.3_2524.99011003207 does not exist in tag file. So, arbitrary jump like outfile created\n",
    "    w010.02047.02047.3_2033.05468003207 does not exist in tag file. So, arbitrary jump like outfile created\n",
    "    w010.02061.02061.2_1606.74552003207 does not exist in tag file. So, arbitrary jump like outfile created\n",
    "    w010.02092.02092.3_1642.83527003207 does not exist in tag file. So, arbitrary jump like outfile created\n",
    "    w010.02106.02106.3_2479.25041003207 does not exist in tag file. So, arbitrary jump like outfile created\n",
    "    w010.02138.02138.3_1811.95204003207 does not exist in tag file. So, arbitrary jump like outfile created\n",
    "    w010.02141.02141.2_2179.98213003207 does not exist in tag file. So, arbitrary jump like outfile created\n",
    "    w010.02148.02148.2_1491.73999003207 does not exist in tag file. So, arbitrary jump like outfile created\n",
    "    w010.02183.02183.2_1677.76790003207 does not exist in tag file. So, arbitrary jump like outfile created\n",
    "    w010.02183.02183.3_2516.14821003207 does not exist in tag file. So, arbitrary jump like outfile created\n",
    "    w010.02262.02262.2_1531.84980003207 does not exist in tag file. So, arbitrary jump like outfile created\n",
    "    w010.02262.02262.3_2297.27107003207 does not exist in tag file. So, arbitrary jump like outfile created\n",
    "    w010.02279.02279.2_1850.90651003207 does not exist in tag file. So, arbitrary jump like outfile created\n",
    "    w010.02627.02627.2_849.36835003207 does not exist in tag file. So, arbitrary jump like outfile created\n",
    "    w010.02752.02752.3_2051.94752003207 does not exist in tag file. So, arbitrary jump like outfile created\n",
    "    w010.02874.02874.2_1505.49222003207 does not exist in tag file. So, arbitrary jump like outfile created\n",
    "    w010.02909.02909.4_4377.794100032071 does not exist in tag file. So, arbitrary jump like outfile created\n",
    "    w010.03336.03336.3_4086.71701003207 does not exist in tag file. So, arbitrary jump like outfile created\n",
    "    w010.03343.03343.4_2736.28178003207 does not exist in tag file. So, arbitrary jump like outfile created\n",
    "    w010.03495.03495.2_1624.8441100320701 does not exist in tag file. So, arbitrary jump like outfile created\n",
    "    w010.03514.03514.3_2736.28166003207 does not exist in tag file. So, arbitrary jump like outfile created\n",
    "    w010.03574.03574.2_1605.7938500320702 does not exist in tag file. So, arbitrary jump like outfile created\n",
    "    w010.03745.03745.1_1382.5790700320701 does not exist in tag file. So, arbitrary jump like outfile created\n",
    "    w010.03745.03745.3_4145.72266003207 does not exist in tag file. So, arbitrary jump like outfile created\n",
    "    w010.03748.03748.3_3097.3935800320696 does not exist in tag file. So, arbitrary jump like outfile created\n",
    "    w010.03852.03852.3_3661.56271003207 does not exist in tag file. So, arbitrary jump like outfile created\n",
    "    w010.03993.03993.2_1413.68726003207 does not exist in tag file. So, arbitrary jump like outfile created\n",
    "    w010.03993.03993.3_2120.02725003207 does not exist in tag file. So, arbitrary jump like outfile created\n",
    "    w010.04745.04745.3_4085.70254003207 does not exist in tag file. So, arbitrary jump like outfile created\n",
    "    w010.04792.04792.4_3766.67102003207 does not exist in tag file. So, arbitrary jump like outfile created\n",
    "    w010.05186.05186.2_1693.76723003207 does not exist in tag file. So, arbitrary jump like outfile created\n",
    "    total spectrums matched 2912\n",
    "    w010.05220.05220.2_1694.77139003207 does not exist in tag file. So, arbitrary jump like outfile created\n",
    "    w010.05327.05327.2_1721.79623003207 does not exist in tag file. So, arbitrary jump like outfile created\n",
    "    w010.05328.05328.2_1693.76772003207 does not exist in tag file. So, arbitrary jump like outfile created\n",
    "    w010.05328.05328.3_2540.14794003207 does not exist in tag file. So, arbitrary jump like outfile created\n",
    "    w010.05524.05524.3_3423.4983600320697 does not exist in tag file. So, arbitrary jump like outfile created\n",
    "    w010.05933.05933.2_2048.8556100320698 does not exist in tag file. So, arbitrary jump like outfile created\n",
    "    w010.05952.05952.2_2666.19321003207 does not exist in tag file. So, arbitrary jump like outfile created\n",
    "    w010.06015.06015.3_3556.64533003207 does not exist in tag file. So, arbitrary jump like outfile created\n",
    "    w010.06052.06052.3_2427.96842003207 does not exist in tag file. So, arbitrary jump like outfile created\n",
    "    w010.06058.06058.3_1702.86370003207 does not exist in tag file. So, arbitrary jump like outfile created\n",
    "    w010.06058.06058.4_2269.0986300320697 does not exist in tag file. So, arbitrary jump like outfile created\n",
    "    w010.06169.06169.3_2014.01202003207 does not exist in tag file. So, arbitrary jump like outfile created\n",
    "    w010.06231.06231.3_3641.79544003207 does not exist in tag file. So, arbitrary jump like outfile created\n",
    "    w010.06350.06350.4_3639.74726003207 does not exist in tag file. So, arbitrary jump like outfile created\n",
    "    w010.07151.07151.3_1856.93235003207 does not exist in tag file. So, arbitrary jump like outfile created\n",
    "    w010.07253.07253.3_4550.797380032071 does not exist in tag file. So, arbitrary jump like outfile created\n",
    "    w010.07256.07256.2_1699.73165003207 does not exist in tag file. So, arbitrary jump like outfile created\n",
    "    w010.07272.07272.2_1995.6688700320701 does not exist in tag file. So, arbitrary jump like outfile created\n",
    "    w010.07277.07277.2_1975.93025003207 does not exist in tag file. So, arbitrary jump like outfile created\n",
    "    w010.07277.07277.3_2963.39173003207 does not exist in tag file. So, arbitrary jump like outfile created\n",
    "    w010.07293.07293.2_1392.66980003207 does not exist in tag file. So, arbitrary jump like outfile created\n",
    "    w010.07339.07339.2_1707.92010003207 does not exist in tag file. So, arbitrary jump like outfile created\n",
    "    w010.07423.07423.2_1547.6899400320701 does not exist in tag file. So, arbitrary jump like outfile created\n",
    "    w010.07789.07789.2_1829.02250003207 does not exist in tag file. So, arbitrary jump like outfile created\n",
    "    w010.08032.08032.2_1801.95629003207 does not exist in tag file. So, arbitrary jump like outfile created\n",
    "    w010.08155.08155.2_1828.96904003207 does not exist in tag file. So, arbitrary jump like outfile created\n",
    "    w010.08526.08526.3_2790.21453003207 does not exist in tag file. So, arbitrary jump like outfile created\n",
    "    w010.09751.09751.1_1070.41523003207 does not exist in tag file. So, arbitrary jump like outfile created\n",
    "    w010.09751.09751.3_3208.23833003207 does not exist in tag file. So, arbitrary jump like outfile created\n",
    "    w010.09824.09824.4_3193.26716003207 does not exist in tag file. So, arbitrary jump like outfile created\n",
    "    w010.09862.09862.3_3208.24236003207 does not exist in tag file. So, arbitrary jump like outfile created\n",
    "    w010.09972.09972.3_2731.16348003207 does not exist in tag file. So, arbitrary jump like outfile created\n",
    "    w010.10136.10136.3_2126.00242003207 does not exist in tag file. So, arbitrary jump like outfile created\n",
    "    w010.10176.10176.2_1152.55508003207 does not exist in tag file. So, arbitrary jump like outfile created\n",
    "    total spectrums matched 2912\n",
    "    w010.11015.11015.3_3038.4790800320698 does not exist in tag file. So, arbitrary jump like outfile created\n",
    "    w010.11155.11155.3_3194.53714003207 does not exist in tag file. So, arbitrary jump like outfile created\n",
    "    w010.11659.11659.2_1529.80056003207 does not exist in tag file. So, arbitrary jump like outfile created\n",
    "    w010.11661.11661.2_2110.84851003207 does not exist in tag file. So, arbitrary jump like outfile created\n",
    "    w010.12161.12161.2_2290.01864003207 does not exist in tag file. So, arbitrary jump like outfile created\n",
    "    w010.12392.12392.3_2823.4313100320696 does not exist in tag file. So, arbitrary jump like outfile created\n",
    "    w010.12733.12733.3_1838.0176600320701 does not exist in tag file. So, arbitrary jump like outfile created\n",
    "    w010.13231.13231.3_2203.17928003207 does not exist in tag file. So, arbitrary jump like outfile created\n",
    "    w010.13762.13762.2_2019.89357003207 does not exist in tag file. So, arbitrary jump like outfile created\n",
    "    w010.13762.13762.3_3030.84864003207 does not exist in tag file. So, arbitrary jump like outfile created\n",
    "    w010.14038.14038.2_1142.58318003207 does not exist in tag file. So, arbitrary jump like outfile created\n",
    "    w010.14464.14464.3_1985.7930400320702 does not exist in tag file. So, arbitrary jump like outfile created\n",
    "    w010.14508.14508.3_3677.50788003207 does not exist in tag file. So, arbitrary jump like outfile created\n",
    "    w010.15588.15588.4_4422.034200032071 does not exist in tag file. So, arbitrary jump like outfile created\n",
    "    w010.15670.15670.2_1029.39398003207 does not exist in tag file. So, arbitrary jump like outfile created\n",
    "    w010.15800.15800.2_2440.05101003207 does not exist in tag file. So, arbitrary jump like outfile created\n",
    "    w010.15800.15800.4_4879.09474003207 does not exist in tag file. So, arbitrary jump like outfile created\n",
    "    w010.15820.15820.3_1315.60614003207 does not exist in tag file. So, arbitrary jump like outfile created\n",
    "    total spectrums matched 2912\n",
    "    w010.15918.15918.2_2440.05882003207 does not exist in tag file. So, arbitrary jump like outfile created\n",
    "    w010.15918.15918.4_4879.11037003207 does not exist in tag file. So, arbitrary jump like outfile created\n",
    "    w010.15965.15965.2_945.4118800320699 does not exist in tag file. So, arbitrary jump like outfile created\n",
    "    w010.15965.15965.3_1417.5655700320701 does not exist in tag file. So, arbitrary jump like outfile created\n",
    "    w010.15988.15988.3_2043.95913003207 does not exist in tag file. So, arbitrary jump like outfile created\n",
    "    w010.16074.16074.2_2236.83888003207 does not exist in tag file. So, arbitrary jump like outfile created\n",
    "    w010.16388.16388.3_1270.5663800320701 does not exist in tag file. So, arbitrary jump like outfile created\n",
    "    w010.16603.16603.3_1405.7491000320701 does not exist in tag file. So, arbitrary jump like outfile created\n",
    "    w010.16760.16760.2_1340.67636003207 does not exist in tag file. So, arbitrary jump like outfile created\n",
    "    w010.16760.16760.3_2004.9722600320702 does not exist in tag file. So, arbitrary jump like outfile created\n",
    "    w010.16926.16926.4_4095.75923003207 does not exist in tag file. So, arbitrary jump like outfile created\n",
    "    w010.17050.17050.2_1115.53138003207 does not exist in tag file. So, arbitrary jump like outfile created\n",
    "    w010.17050.17050.3_1672.79343003207 does not exist in tag file. So, arbitrary jump like outfile created\n",
    "    w010.17210.17210.2_1508.70879003207 does not exist in tag file. So, arbitrary jump like outfile created\n",
    "    w010.17222.17222.2_2299.13300003207 does not exist in tag file. So, arbitrary jump like outfile created\n",
    "    w010.17907.17907.2_1993.9644200320702 does not exist in tag file. So, arbitrary jump like outfile created\n",
    "    w010.18242.18242.2_1241.61776003207 does not exist in tag file. So, arbitrary jump like outfile created\n",
    "    w010.18242.18242.3_1861.9230100320701 does not exist in tag file. So, arbitrary jump like outfile created\n",
    "    w010.18271.18271.3_3296.56478003207 does not exist in tag file. So, arbitrary jump like outfile created\n",
    "    w010.18368.18368.2_2285.08098003207 does not exist in tag file. So, arbitrary jump like outfile created\n",
    "    w010.19116.19116.2_885.34309003207 does not exist in tag file. So, arbitrary jump like outfile created\n",
    "    w010.19116.19116.3_1329.42053003207 does not exist in tag file. So, arbitrary jump like outfile created\n",
    "    total spectrums matched 2912\n",
    "    w010.20441.20441.2_1405.7330700320701 does not exist in tag file. So, arbitrary jump like outfile created\n",
    "    w010.20441.20441.4_2810.45886003207 does not exist in tag file. So, arbitrary jump like outfile created\n",
    "    w010.20974.20974.3_3085.25584003207 does not exist in tag file. So, arbitrary jump like outfile created\n",
    "    w010.21114.21114.2_1317.60345003207 does not exist in tag file. So, arbitrary jump like outfile created\n",
    "    w010.21114.21114.3_1975.90154003207 does not exist in tag file. So, arbitrary jump like outfile created\n",
    "    w010.21115.21115.3_1255.61047003207 does not exist in tag file. So, arbitrary jump like outfile created\n",
    "    w010.21203.21203.3_1266.60982003207 does not exist in tag file. So, arbitrary jump like outfile created\n",
    "    w010.21257.21257.3_1422.6387000320701 does not exist in tag file. So, arbitrary jump like outfile created\n",
    "    w010.21328.21328.3_3083.35373003207 does not exist in tag file. So, arbitrary jump like outfile created\n",
    "    w010.21767.21767.3_1969.97710003207 does not exist in tag file. So, arbitrary jump like outfile created\n",
    "    w010.23279.23279.3_4731.044030032071 does not exist in tag file. So, arbitrary jump like outfile created\n",
    "    w010.23445.23445.2_1147.39713003207 does not exist in tag file. So, arbitrary jump like outfile created\n",
    "    w010.23488.23488.2_1112.4536300320701 does not exist in tag file. So, arbitrary jump like outfile created\n",
    "    w010.23758.23758.3_1576.66793003207 does not exist in tag file. So, arbitrary jump like outfile created\n",
    "    w010.23760.23760.3_1697.74024003207 does not exist in tag file. So, arbitrary jump like outfile created\n",
    "    w010.23760.23760.4_2264.90165003207 does not exist in tag file. So, arbitrary jump like outfile created\n",
    "    w010.23884.23884.2_1149.53960003207 does not exist in tag file. So, arbitrary jump like outfile created\n",
    "    w010.23884.23884.4_2300.93866003207 does not exist in tag file. So, arbitrary jump like outfile created\n",
    "    w010.24010.24010.3_3889.5135900320697 does not exist in tag file. So, arbitrary jump like outfile created\n",
    "    w010.24298.24298.3_2011.01884003207 does not exist in tag file. So, arbitrary jump like outfile created\n",
    "    w010.24426.24426.2_2331.9462100320698 does not exist in tag file. So, arbitrary jump like outfile created\n",
    "    total spectrums matched 2912\n",
    "    w010.24788.24788.2_1243.56541003207 does not exist in tag file. So, arbitrary jump like outfile created\n",
    "    w010.24788.24788.3_1864.8444800320701 does not exist in tag file. So, arbitrary jump like outfile created\n",
    "    w010.24893.24893.2_1524.77137003207 does not exist in tag file. So, arbitrary jump like outfile created\n",
    "    w010.25269.25269.3_1947.88683003207 does not exist in tag file. So, arbitrary jump like outfile created\n",
    "    w010.25492.25492.3_1239.50683003207 does not exist in tag file. So, arbitrary jump like outfile created\n",
    "    w010.25513.25513.2_2331.94352003207 does not exist in tag file. So, arbitrary jump like outfile created\n",
    "    w010.25709.25709.1_1170.5756600320701 does not exist in tag file. So, arbitrary jump like outfile created\n",
    "    w010.25832.25832.2_1182.47850003207 does not exist in tag file. So, arbitrary jump like outfile created\n",
    "    w010.25900.25900.3_1266.57165003207 does not exist in tag file. So, arbitrary jump like outfile created\n",
    "    w010.26003.26003.2_1344.58551003207 does not exist in tag file. So, arbitrary jump like outfile created\n",
    "    w010.26146.26146.3_2286.07601003207 does not exist in tag file. So, arbitrary jump like outfile created\n",
    "    w010.26155.26155.3_2292.11380003207 does not exist in tag file. So, arbitrary jump like outfile created\n",
    "    w010.26242.26242.3_2283.1115000320697 does not exist in tag file. So, arbitrary jump like outfile created\n",
    "    w010.26342.26342.3_1526.54985003207 does not exist in tag file. So, arbitrary jump like outfile created\n",
    "    w010.26765.26765.3_1275.57147003207 does not exist in tag file. So, arbitrary jump like outfile created\n",
    "    w010.26802.26802.2_1269.51926003207 does not exist in tag file. So, arbitrary jump like outfile created\n",
    "    w010.26969.26969.3_1912.01633003207 does not exist in tag file. So, arbitrary jump like outfile created\n",
    "    w010.27014.27014.2_1012.44819003207 does not exist in tag file. So, arbitrary jump like outfile created\n",
    "    w010.27014.27014.4_2022.8916600320701 does not exist in tag file. So, arbitrary jump like outfile created\n",
    "    w010.27228.27228.4_2482.06406003207 does not exist in tag file. So, arbitrary jump like outfile created\n",
    "    w010.27483.27483.3_1399.52160003207 does not exist in tag file. So, arbitrary jump like outfile created\n",
    "    w010.27590.27590.3_2798.46293003207 does not exist in tag file. So, arbitrary jump like outfile created\n",
    "    w010.27735.27735.1_1508.61728003207 does not exist in tag file. So, arbitrary jump like outfile created\n",
    "    w010.27735.27735.3_4523.83729003207 does not exist in tag file. So, arbitrary jump like outfile created\n",
    "    w010.27973.27973.4_2885.23964003207 does not exist in tag file. So, arbitrary jump like outfile created\n",
    "    w010.28107.28107.2_1403.6185100320702 does not exist in tag file. So, arbitrary jump like outfile created\n",
    "    w010.28107.28107.3_2104.92412003207 does not exist in tag file. So, arbitrary jump like outfile created\n",
    "    w010.28263.28263.3_4523.835830032071 does not exist in tag file. So, arbitrary jump like outfile created\n",
    "    w010.28287.28287.3_4524.85244003207 does not exist in tag file. So, arbitrary jump like outfile created\n",
    "    w010.28392.28392.3_4524.838890032071 does not exist in tag file. So, arbitrary jump like outfile created\n",
    "    w010.28516.28516.3_3307.3081800320697 does not exist in tag file. So, arbitrary jump like outfile created\n",
    "    w010.28533.28533.3_1368.57927003207 does not exist in tag file. So, arbitrary jump like outfile created\n",
    "    w010.28559.28559.3_1353.61280003207 does not exist in tag file. So, arbitrary jump like outfile created\n",
    "    w010.28634.28634.3_1368.57506003207 does not exist in tag file. So, arbitrary jump like outfile created\n",
    "\n",
    "'''\n"
   ]
  },
  {
   "cell_type": "code",
   "execution_count": 23,
   "metadata": {},
   "outputs": [],
   "source": [
    "def scan_tag_dictionary(tag_file): #change key to outfile style with precursor info\n",
    "    tag_score_list = []\n",
    "    scan_tag = {}\n",
    "    jump_comet_link = {} #links comet with jump\n",
    "    tag_rank = 0\n",
    "    with open(tag_file,\"r\") as f:\n",
    "        cnt = 0\n",
    "        for line in f:\n",
    "            tag_rank+=1\n",
    "            # print (cnt)\n",
    "            if '.tag' in line:\n",
    "                if line.strip() == \"w010.2577.1.4.tag\":\n",
    "                    print (\"tag found\")\n",
    "                tag_rank = 0\n",
    "                temp_line = line.split(\".\")\n",
    "                scan = int(temp_line[1])\n",
    "                scan5digit = str('%05d' % int(scan)) \n",
    "                if scan5digit == \"02577\":\n",
    "                    print (line.strip())\n",
    "                #this is comet key\n",
    "                comet_key = temp_line[0]+\".\"+scan5digit+\".\"+scan5digit+\".\"+temp_line[-2]\n",
    "                jump_key = \".\".join(temp_line[0:-1])\n",
    "                tag_score_dict = {} #tag score dictionary\n",
    "                link_key = \"\"\n",
    "                \n",
    "            else:\n",
    "                if jump_key == \"w010.2577.1.4\":\n",
    "                    print (line.strip())\n",
    "                # print (tag_rank)\n",
    "                tag_info = line.strip().split(\"\\t\")\n",
    "                neutral_mass = tag_info[0] #MH -- hydrogen is added to neutral mass\n",
    "                link_key = comet_key+\"_\"+neutral_mass #we are adding w010.00500.00500.3 with neutral mass (MH)\n",
    "                tag = tag_info[1]\n",
    "                rtFlank = tag_info[2]\n",
    "                Escore = tag_info[3] #use second score in .tags file\n",
    "#                 if key == \"w010.06508.06508.3\":\n",
    "#                     print (tag_info)\n",
    "#                     print (rtFlank,\"\\t\",Escore)\n",
    "                \n",
    "                \n",
    "                if \"@\" in tag:\n",
    "                    tag1 = tag.replace('M@','M')\n",
    "                    tag=tag1\n",
    "                if \"I\" in tag or \"L\" in tag:\n",
    "                    leu_pep = tag.replace('I','L')\n",
    "                    pep_list = list(filler(leu_pep,'L','I'))\n",
    "\n",
    "                    for tags in pep_list:\n",
    "                        tag_score_dict[tags] = [Escore,rtFlank,tag_rank]\n",
    "#                         tag_score_dict[tags[::-1]] = [Escore,rtFlank] #jump already reverses the tag\n",
    "                        tag_score_list.append(float(Escore))\n",
    "                else:\n",
    "                    tag_score_dict[tag] = [Escore,rtFlank,tag_rank]\n",
    "#                     tag_score_dict[tag[::-1]] = [Escore,rtFlank]\n",
    "                    tag_score_list.append(float(Escore))\n",
    "            scan_tag[jump_key] = tag_score_dict\n",
    "            jump_comet_link[link_key] = jump_key\n",
    "\n",
    "            # if jump_key not in scan_tag:\n",
    "            #     scan_tag[jump_key] = tag_score_dict\n",
    "            # else:\n",
    "            #     #update tag_score_dict\n",
    "            #     scan_tag[jump_key] = merge_two_dicts(scan_tag[jump_key], tag_score_dict)\n",
    "\n",
    "    return scan_tag, tag_score_list, jump_comet_link\n"
   ]
  },
  {
   "cell_type": "code",
   "execution_count": 31,
   "metadata": {},
   "outputs": [
    {
     "data": {
      "text/plain": [
       "'w010.2577.3.2'"
      ]
     },
     "execution_count": 31,
     "metadata": {},
     "output_type": "execute_result"
    }
   ],
   "source": [
    "jump_comet_link[\"w010.02577.02577.2_943.45751\"]"
   ]
  },
  {
   "cell_type": "code",
   "execution_count": 27,
   "metadata": {},
   "outputs": [],
   "source": [
    "comet_mass = 945.445954"
   ]
  },
  {
   "cell_type": "code",
   "execution_count": 28,
   "metadata": {},
   "outputs": [],
   "source": [
    "MH = float(comet_mass)+1.00782503207"
   ]
  },
  {
   "cell_type": "code",
   "execution_count": 32,
   "metadata": {},
   "outputs": [
    {
     "data": {
      "text/plain": [
       "-3165.7848470257845"
      ]
     },
     "execution_count": 32,
     "metadata": {},
     "output_type": "execute_result"
    }
   ],
   "source": [
    "ppmCalc(MH,943.45751)"
   ]
  },
  {
   "cell_type": "code",
   "execution_count": 30,
   "metadata": {},
   "outputs": [
    {
     "data": {
      "text/plain": [
       "946.45377903207"
      ]
     },
     "execution_count": 30,
     "metadata": {},
     "output_type": "execute_result"
    }
   ],
   "source": [
    "MH"
   ]
  },
  {
   "cell_type": "code",
   "execution_count": 33,
   "metadata": {},
   "outputs": [
    {
     "data": {
      "text/plain": [
       "947.46050646677"
      ]
     },
     "execution_count": 33,
     "metadata": {},
     "output_type": "execute_result"
    }
   ],
   "source": [
    "473.730253233385*2"
   ]
  },
  {
   "cell_type": "code",
   "execution_count": 35,
   "metadata": {},
   "outputs": [
    {
     "data": {
      "text/plain": [
       "946.45323"
      ]
     },
     "execution_count": 35,
     "metadata": {},
     "output_type": "execute_result"
    }
   ],
   "source": [
    "947.46050646677 - (mass.calculate_mass(formula=\"H+\"))"
   ]
  },
  {
   "cell_type": "code",
   "execution_count": 46,
   "metadata": {},
   "outputs": [],
   "source": [
    "MH_jump = 945.37953\n",
    "proton = 1.00727646677\n",
    "hydrogen = 1.00782503207"
   ]
  },
  {
   "cell_type": "code",
   "execution_count": null,
   "metadata": {},
   "outputs": [],
   "source": []
  },
  {
   "cell_type": "code",
   "execution_count": 47,
   "metadata": {},
   "outputs": [],
   "source": [
    "neutral_mass = MH_jump - hydrogen "
   ]
  },
  {
   "cell_type": "code",
   "execution_count": 48,
   "metadata": {},
   "outputs": [
    {
     "data": {
      "text/plain": [
       "944.3717049679301"
      ]
     },
     "execution_count": 48,
     "metadata": {},
     "output_type": "execute_result"
    }
   ],
   "source": [
    "neutral_mass"
   ]
  },
  {
   "cell_type": "code",
   "execution_count": 49,
   "metadata": {},
   "outputs": [],
   "source": [
    "def precMZCalc(M, z): #M = Neutral mass\n",
    "    proton = 1.00727646677\n",
    "    precmz = (float(M)+(float(z)*proton))/float(z)\n",
    "    return precmz"
   ]
  },
  {
   "cell_type": "code",
   "execution_count": 50,
   "metadata": {},
   "outputs": [
    {
     "data": {
      "text/plain": [
       "473.19312895073506"
      ]
     },
     "execution_count": 50,
     "metadata": {},
     "output_type": "execute_result"
    }
   ],
   "source": [
    "precMZCalc(neutral_mass, 2)"
   ]
  },
  {
   "cell_type": "code",
   "execution_count": 41,
   "metadata": {},
   "outputs": [
    {
     "data": {
      "text/plain": [
       "945.44457983323"
      ]
     },
     "execution_count": 41,
     "metadata": {},
     "output_type": "execute_result"
    }
   ],
   "source": [
    "946.4518563-proton"
   ]
  },
  {
   "cell_type": "code",
   "execution_count": 51,
   "metadata": {},
   "outputs": [
    {
     "data": {
      "text/plain": [
       "2.01455293354"
      ]
     },
     "execution_count": 51,
     "metadata": {},
     "output_type": "execute_result"
    }
   ],
   "source": [
    "2*proton"
   ]
  },
  {
   "cell_type": "code",
   "execution_count": 52,
   "metadata": {},
   "outputs": [
    {
     "data": {
      "text/plain": [
       "946.3862579014701"
      ]
     },
     "execution_count": 52,
     "metadata": {},
     "output_type": "execute_result"
    }
   ],
   "source": [
    "neutral_mass+2.01455293354"
   ]
  },
  {
   "cell_type": "code",
   "execution_count": 53,
   "metadata": {},
   "outputs": [
    {
     "data": {
      "text/plain": [
       "473.19312895073506"
      ]
     },
     "execution_count": 53,
     "metadata": {},
     "output_type": "execute_result"
    }
   ],
   "source": [
    "946.3862579014701/2"
   ]
  },
  {
   "cell_type": "code",
   "execution_count": 56,
   "metadata": {},
   "outputs": [
    {
     "data": {
      "text/plain": [
       "944.3717049679301"
      ]
     },
     "execution_count": 56,
     "metadata": {},
     "output_type": "execute_result"
    }
   ],
   "source": [
    "((473.19312895073506)*2) - 2.01455293354"
   ]
  },
  {
   "cell_type": "code",
   "execution_count": null,
   "metadata": {},
   "outputs": [],
   "source": []
  },
  {
   "cell_type": "code",
   "execution_count": 24,
   "metadata": {},
   "outputs": [
    {
     "name": "stdout",
     "output_type": "stream",
     "text": [
      "tag found\n",
      "w010.2577.1.4.tag\n",
      "1890.89535\tVH\t795.372398625335\t7.35245705151194\t5.17052128887515\t6.44259701943218\t559.246710838448;696.304299619373;795.372398625335\n",
      "1890.89535\tH\t696.304299619373\t6.39606801862906\t3.9304119463434\t5.34434782737649\t559.246710838448;696.304299619373\n",
      "1890.89535\tV\t795.372398625335\t6.23107683659742\t3.45795882616605\t5.02562567610115\t696.304299619373;795.372398625335\n",
      "1890.89535\tVH\t796.375705485765\t5.50135838514682\t5.16811197313148\t5.51584302355777\t560.249651483939;697.307911658918;796.375705485765\n",
      "1890.89535\tH\t697.307911658918\t5.29892756062267\t3.92881547064509\t4.79497936002683\t560.249651483939;697.307911658918\n",
      "1890.89535\tR\t175.118734612229\t4.98559554841038\t6.99024137259028\t6.16902630487107\t19.017806;175.118734612229\n",
      "1890.89535\tPH\t795.372398625335\t4.6066216043046\t5.15468679410827\t5.06176204356495\t561.251310377145;698.311157483525;795.372398625335\n",
      "1890.89535\tVH\t797.376692984917\t4.26236587912252\t5.16579111418632\t4.89518634100813\t561.251310377145;698.311157483525;797.376692984917\n",
      "1890.89535\tH\t698.311157483525\t3.79997386082418\t3.92732277457538\t4.04475616205088\t561.251310377145;698.311157483525\n",
      "1890.89535\tV\t796.375705485765\t1.20602113610136\t3.45667555813728\t-0\t697.307911658918;796.375705485765\n",
      "1890.89535\tP\t795.372398625335\t1.00431655314064\t3.43775817212745\t-0\t698.311157483525;795.372398625335\n",
      "1890.89535\tV\t797.376692984917\t0.752345824180974\t3.45539039138103\t-0\t698.311157483525;797.376692984917\n",
      "w010.2577.2.2.tag\n",
      "w010.2577.2.3.tag\n",
      "w010.2577.3.2.tag\n",
      "w010.2577.4.2.tag\n",
      "w010.2577.4.3.tag\n"
     ]
    }
   ],
   "source": [
    "scan_tag, tag_score_list, jump_comet_link = scan_tag_dictionary(tag_file)"
   ]
  },
  {
   "cell_type": "code",
   "execution_count": 25,
   "metadata": {},
   "outputs": [
    {
     "name": "stdout",
     "output_type": "stream",
     "text": [
      "w010.02577.02577.2_945.30690 \t w010.2577.2.2\n",
      "w010.02577.02577.2_943.45751 \t w010.2577.3.2\n",
      "w010.02577.02577.2_945.37953 \t w010.2577.4.2\n"
     ]
    }
   ],
   "source": [
    "for key in jump_comet_link:\n",
    "    if \"w010.02577.02577.2\" in key:\n",
    "        print (key,\"\\t\",jump_comet_link[key])"
   ]
  },
  {
   "cell_type": "code",
   "execution_count": 11,
   "metadata": {},
   "outputs": [
    {
     "data": {
      "text/plain": [
       "67303"
      ]
     },
     "execution_count": 11,
     "metadata": {},
     "output_type": "execute_result"
    }
   ],
   "source": [
    "len(jump_comet_link.keys())"
   ]
  },
  {
   "cell_type": "code",
   "execution_count": 12,
   "metadata": {},
   "outputs": [
    {
     "name": "stdout",
     "output_type": "stream",
     "text": [
      "w010.1358.1.3\n",
      "w010.17548.1.3\n",
      "w010.17556.1.3\n",
      "w010.24505.1.3\n",
      "w010.25852.1.3\n",
      "w010.27007.1.3\n",
      "w010.28047.1.3\n",
      "w010.29483.1.2\n",
      "w010.31490.1.3\n",
      "w010.37824.1.3\n",
      "w010.38943.1.3\n"
     ]
    }
   ],
   "source": [
    "for x in scan_tag.keys():\n",
    "    if x not in jump_comet_link.values():\n",
    "        print (x)"
   ]
  },
  {
   "cell_type": "code",
   "execution_count": null,
   "metadata": {},
   "outputs": [],
   "source": []
  }
 ],
 "metadata": {
  "kernelspec": {
   "display_name": "Python 3",
   "language": "python",
   "name": "python3"
  },
  "language_info": {
   "codemirror_mode": {
    "name": "ipython",
    "version": 3
   },
   "file_extension": ".py",
   "mimetype": "text/x-python",
   "name": "python",
   "nbconvert_exporter": "python",
   "pygments_lexer": "ipython3",
   "version": "3.8.1"
  }
 },
 "nbformat": 4,
 "nbformat_minor": 4
}
